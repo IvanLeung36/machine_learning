{
 "cells": [
  {
   "cell_type": "code",
   "execution_count": null,
   "metadata": {},
   "outputs": [],
   "source": [
    "import pandas as pd\n",
    "import numpy as np\n",
    "import sklearn\n",
    "import matplotlib.pyplot as plt\n",
    "import plotly.express as px\n",
    "import seaborn as sns"
   ]
  },
  {
   "cell_type": "markdown",
   "metadata": {},
   "source": [
    "### Reading csv file and getting the dataframe"
   ]
  },
  {
   "cell_type": "code",
   "execution_count": null,
   "metadata": {},
   "outputs": [],
   "source": [
    "df = pd.read_csv('../csvs/fraudTrain.csv')\n",
    "df"
   ]
  },
  {
   "cell_type": "code",
   "execution_count": null,
   "metadata": {},
   "outputs": [],
   "source": [
    "df['is_fraud'].value_counts()"
   ]
  },
  {
   "cell_type": "code",
   "execution_count": null,
   "metadata": {},
   "outputs": [],
   "source": [
    "df['trans_date_trans_time'] = pd.to_datetime(df['trans_date_trans_time'], format='%d/%m/%Y %H:%M', errors='coerce')\n"
   ]
  },
  {
   "cell_type": "markdown",
   "metadata": {},
   "source": [
    "### Creating balanced dataframe (equal fraud and non-fraud)"
   ]
  },
  {
   "cell_type": "code",
   "execution_count": null,
   "metadata": {},
   "outputs": [],
   "source": [
    "fraud_trans = df[df['is_fraud'] == 1]\n",
    "non_fraud_trans = df[df['is_fraud'] == 0]\n",
    "\n",
    "len_fraud = len(fraud_trans)\n",
    "# new_non_fraud = non_fraud_trans.iloc[:len_fraud]\n",
    "rand_non_fraud = non_fraud_trans.sample(n=len_fraud, random_state=42)\n",
    "\n",
    "balanced_df = pd.concat([fraud_trans, rand_non_fraud])\n",
    "balanced_df"
   ]
  },
  {
   "cell_type": "code",
   "execution_count": null,
   "metadata": {},
   "outputs": [],
   "source": [
    "balanced_df = balanced_df.sort_values('unix_time').reset_index(drop=True)\n",
    "balanced_df"
   ]
  },
  {
   "cell_type": "code",
   "execution_count": null,
   "metadata": {},
   "outputs": [],
   "source": [
    "balanced_df['is_fraud'].value_counts()"
   ]
  },
  {
   "cell_type": "markdown",
   "metadata": {},
   "source": [
    "### Analysing data types of balanced_df"
   ]
  },
  {
   "cell_type": "code",
   "execution_count": null,
   "metadata": {},
   "outputs": [],
   "source": [
    "balanced_df.dtypes"
   ]
  },
  {
   "cell_type": "code",
   "execution_count": null,
   "metadata": {},
   "outputs": [],
   "source": [
    "# dataframe of only non_integers / floats. will manipulate this to decide how to encode actual df\n",
    "non_objects = [x for x in balanced_df if balanced_df[x].dtype != object]\n",
    "print(non_objects)\n",
    "object_df = balanced_df.drop(non_objects, axis=1)\n",
    "object_df"
   ]
  },
  {
   "cell_type": "code",
   "execution_count": null,
   "metadata": {},
   "outputs": [],
   "source": [
    "print(object_df.columns)"
   ]
  },
  {
   "cell_type": "markdown",
   "metadata": {},
   "source": [
    "### Box plots of streets\n",
    "These are two arrays containing the number of times a street name has been repeated. Found out there's not really anything to glean from this"
   ]
  },
  {
   "cell_type": "code",
   "execution_count": null,
   "metadata": {},
   "outputs": [],
   "source": [
    "fraud_trans[['street', 'is_fraud']].value_counts()\n",
    "fraud_trans['street'].value_counts()"
   ]
  },
  {
   "cell_type": "code",
   "execution_count": null,
   "metadata": {},
   "outputs": [],
   "source": [
    "rand_non_fraud[['street', 'is_fraud']].value_counts()\n",
    "rand_non_fraud['street'].value_counts()"
   ]
  },
  {
   "cell_type": "code",
   "execution_count": null,
   "metadata": {},
   "outputs": [],
   "source": [
    "fraud_streets = np.array(fraud_trans['street'].value_counts())"
   ]
  },
  {
   "cell_type": "code",
   "execution_count": null,
   "metadata": {},
   "outputs": [],
   "source": [
    "fig = plt.figure(figsize =(15, 15))\n",
    "\n",
    "plt.boxplot(fraud_streets)\n",
    "plt.show()"
   ]
  },
  {
   "cell_type": "code",
   "execution_count": null,
   "metadata": {},
   "outputs": [],
   "source": [
    "non_fraud_streets = np.array(non_fraud_trans['street'].value_counts())\n",
    "plt.boxplot(non_fraud_streets)\n",
    "plt.show()\n",
    "\n",
    "# note: cannot compare these two boxplots, there are way too many non-fraudulent transactions. But this is better than using new_non_fraud, which is self-made"
   ]
  },
  {
   "cell_type": "markdown",
   "metadata": {},
   "source": [
    "### Analysing purpose of transaction\n",
    "Might try bar charts? Or boxplots?\n",
    "Have concluded from a bar chart that more fraud is under misc_net or grocery_pos.\n",
    "\n",
    "However, this is compared with a randomly sampled sample of non-fraud data points: is this ok?"
   ]
  },
  {
   "cell_type": "code",
   "execution_count": null,
   "metadata": {},
   "outputs": [],
   "source": [
    "non_fraud_trans['category'].value_counts()\n",
    "# rand_non_fraud['category'].value_counts()"
   ]
  },
  {
   "cell_type": "code",
   "execution_count": null,
   "metadata": {},
   "outputs": [],
   "source": [
    "fraud_trans['category'].value_counts()\n",
    "# was right about high number of online fraud transactions (_net). Didn't expect the highest to be grocery_pos (is this why I get stopped at the checkout so much?) did not expect low number of grocery_net"
   ]
  },
  {
   "cell_type": "code",
   "execution_count": null,
   "metadata": {},
   "outputs": [],
   "source": [
    "categories = df['category'].unique().tolist()\n",
    "\n",
    "non_fraud_cats = np.array([ (x / len(non_fraud_trans)) * 100 for x in non_fraud_trans['category'].value_counts()])\n",
    "fraud_cats = np.array([ (x / len(fraud_trans)) * 100 for x in fraud_trans['category'].value_counts()])\n",
    "\n",
    "x_axis = np.arange(len(categories))\n",
    "\n",
    "fig = plt.figure(figsize=(20, 7))\n",
    "plt.bar(x_axis - 0.2, non_fraud_cats, 0.4, label='Non-fraud', color='b')\n",
    "plt.bar(x_axis + 0.2, fraud_cats, 0.4, label='Fraud', color='r')\n",
    "\n",
    "plt.xticks(x_axis, categories)\n",
    "plt.xlabel(\"Purpose of transaction\") \n",
    "plt.ylabel(\"Percentage\") \n",
    "plt.title(\"Percentages of transactions for different purposes\") \n",
    "plt.legend() \n",
    "plt.show()"
   ]
  },
  {
   "cell_type": "markdown",
   "metadata": {},
   "source": [
    "### Analysing amount spent"
   ]
  },
  {
   "cell_type": "code",
   "execution_count": null,
   "metadata": {},
   "outputs": [],
   "source": [
    "max(non_fraud_trans['amt'])"
   ]
  },
  {
   "cell_type": "code",
   "execution_count": null,
   "metadata": {},
   "outputs": [],
   "source": [
    "max(fraud_trans['amt'])"
   ]
  },
  {
   "cell_type": "code",
   "execution_count": null,
   "metadata": {},
   "outputs": [],
   "source": [
    "non_fraud_amounts = non_fraud_trans['amt'].tolist()\n",
    "plt.boxplot(non_fraud_amounts)\n",
    "plt.show()"
   ]
  },
  {
   "cell_type": "code",
   "execution_count": null,
   "metadata": {},
   "outputs": [],
   "source": [
    "fraud_amounts = fraud_trans['amt'].tolist()\n",
    "non_fraud_amounts = non_fraud_trans['amt'].tolist()\n",
    "amounts = [fraud_amounts, non_fraud_amounts]\n",
    "plt.boxplot(amounts, tick_labels=['fraud', 'non-fraud'])\n",
    "plt.show()"
   ]
  },
  {
   "cell_type": "markdown",
   "metadata": {},
   "source": [
    "### Random analysis\n",
    "Includes: analysing jobs, attempt at feature engineering"
   ]
  },
  {
   "cell_type": "code",
   "execution_count": null,
   "metadata": {},
   "outputs": [],
   "source": [
    "fraud_trans['job'].unique().tolist()"
   ]
  },
  {
   "cell_type": "code",
   "execution_count": null,
   "metadata": {},
   "outputs": [],
   "source": [
    "non_fraud_trans['job'].unique().tolist()"
   ]
  },
  {
   "cell_type": "code",
   "execution_count": null,
   "metadata": {},
   "outputs": [],
   "source": [
    "fraud_jobs = fraud_trans['job'].unique().tolist()\n",
    "non_fraud_jobs = non_fraud_trans['job'].unique().tolist()\n",
    "\n",
    "both_jobs = []\n",
    "\n",
    "for job in fraud_jobs:\n",
    "    if job in non_fraud_jobs:\n",
    "        both_jobs.append(job)\n",
    "\n",
    "both_jobs"
   ]
  },
  {
   "cell_type": "code",
   "execution_count": null,
   "metadata": {},
   "outputs": [],
   "source": [
    "rand_non_fraud['cc_num'].value_counts()"
   ]
  },
  {
   "cell_type": "code",
   "execution_count": null,
   "metadata": {},
   "outputs": [],
   "source": [
    "fig = px.histogram(balanced_df, x='amt', color='is_fraud', marginal='box', \n",
    "                   title='Transaction Amount Distribution (Fraud vs Non-Fraud)', \n",
    "                   color_discrete_map={0: 'blue', 1: 'red'})\n",
    "fig.update_layout(bargap=0.1)\n",
    "fig.show()"
   ]
  },
  {
   "cell_type": "code",
   "execution_count": null,
   "metadata": {
    "vscode": {
     "languageId": "javascript"
    }
   },
   "outputs": [],
   "source": [
    "fig = px.box(balanced_df, x='category', y='amt', color='is_fraud', \n",
    "             title='Transaction Amount by Category (Fraud vs Non-Fraud)', \n",
    "             color_discrete_map={0: 'blue', 1: 'red'})\n",
    "fig.show()\n"
   ]
  },
  {
   "cell_type": "code",
   "execution_count": null,
   "metadata": {
    "vscode": {
     "languageId": "javascript"
    }
   },
   "outputs": [],
   "source": [
    "balanced_df['hour'] = balanced_df['trans_date_trans_time'].dt.hour\n",
    "fig = px.histogram(balanced_df, x='hour', color='is_fraud', marginal='box', \n",
    "                   title='Fraud Transactions by Hour of the Day')\n",
    "fig.update_layout(bargap=0.1)\n",
    "fig.show()"
   ]
  },
  {
   "cell_type": "code",
   "execution_count": null,
   "metadata": {
    "vscode": {
     "languageId": "javascript"
    }
   },
   "outputs": [],
   "source": [
    "fig = px.box(balanced_df, \n",
    "    x='is_fraud', \n",
    "    y='amt', \n",
    "    color='is_fraud', \n",
    "    color_discrete_map={0: 'blue', 1: 'red'},\n",
    "    title='Transaction Amount by Fraud Status',\n",
    "    labels={'is_fraud': 'Fraud Status', 'amt': 'Transaction Amount'})\n",
    "fig.show()"
   ]
  },
  {
   "cell_type": "code",
   "execution_count": null,
   "metadata": {
    "vscode": {
     "languageId": "javascript"
    }
   },
   "outputs": [],
   "source": [
    "fig = px.line(amount_over_time, x='date', y='amt', color='is_fraud',\n",
    "              title='Amount Spent Over Time (Fraud vs Non-Fraud)',\n",
    "              labels={'is_fraud': 'Fraud Status', 'amt': 'Amount Spent'})\n",
    "fig.show()"
   ]
  },
  {
   "cell_type": "code",
   "execution_count": null,
   "metadata": {
    "vscode": {
     "languageId": "javascript"
    }
   },
   "outputs": [],
   "source": [
    "\n",
    "fig = px.scatter_geo(balanced_df, lat='lat', lon='long', color='is_fraud', hover_name='cc_num',\n",
    "                     color_continuous_scale='RdBu', title='Fraud vs Non-Fraud by Latitude and Longitude')\n",
    "fig.update_geos(showcoastlines=True, coastlinecolor='Black', showland=True, landcolor='lightgray')\n",
    "fig.update_layout(title='Fraud vs Non-Fraud by Latitude and Longitude', geo=dict(showland=True))\n",
    "fig.show()\n"
   ]
  }
 ],
 "metadata": {
  "kernelspec": {
   "display_name": "Python 3",
   "language": "python",
   "name": "python3"
  },
  "language_info": {
   "codemirror_mode": {
    "name": "ipython",
    "version": 3
   },
   "file_extension": ".py",
   "mimetype": "text/x-python",
   "name": "python",
   "nbconvert_exporter": "python",
   "pygments_lexer": "ipython3",
   "version": "3.10.12"
  }
 },
 "nbformat": 4,
 "nbformat_minor": 2
}

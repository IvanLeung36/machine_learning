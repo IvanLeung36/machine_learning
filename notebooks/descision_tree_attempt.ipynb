{
 "cells": [
  {
   "cell_type": "code",
   "execution_count": null,
   "metadata": {},
   "outputs": [],
   "source": [
    "import pandas as pd\n",
    "import numpy as np\n",
    "from sklearn.tree import DecisionTreeClassifier\n",
    "from sklearn.metrics import (precision_recall_curve,\n",
    "                             PrecisionRecallDisplay,\n",
    "                             accuracy_score)\n",
    "# from sklearn.preprocessing import OneHotEncoder"
   ]
  },
  {
   "cell_type": "code",
   "execution_count": null,
   "metadata": {},
   "outputs": [],
   "source": [
    "df = pd.read_csv('../csvs/fraudTrain.csv')\n",
    "df"
   ]
  },
  {
   "cell_type": "code",
   "execution_count": null,
   "metadata": {},
   "outputs": [],
   "source": [
    "fraud_trans = df[df['is_fraud'] == 1]\n",
    "non_fraud_trans = df[df['is_fraud'] == 0]\n",
    "\n",
    "len_fraud = len(fraud_trans)\n",
    "rand_non_fraud = non_fraud_trans.sample(n=len_fraud, random_state=42)\n",
    "\n",
    "balanced_df = pd.concat([fraud_trans, rand_non_fraud])\n",
    "\n",
    "balanced_df = balanced_df.sort_values('unix_time').reset_index(drop=True)\n",
    "balanced_df"
   ]
  },
  {
   "cell_type": "code",
   "execution_count": null,
   "metadata": {},
   "outputs": [],
   "source": [
    "categories = balanced_df['category'].unique().tolist()\n",
    "categories"
   ]
  },
  {
   "cell_type": "code",
   "execution_count": null,
   "metadata": {},
   "outputs": [],
   "source": [
    "balanced_df = pd.get_dummies(balanced_df, columns=['category'], drop_first=True)\n",
    "balanced_df.columns\n"
   ]
  },
  {
   "cell_type": "code",
   "execution_count": null,
   "metadata": {},
   "outputs": [],
   "source": [
    "features = []\n",
    "for x in balanced_df:\n",
    "    if 'category' in x:\n",
    "        balanced_df[x] = balanced_df[x].astype(int)\n",
    "        features.append(x)\n",
    "\n",
    "features.append('amt')"
   ]
  },
  {
   "cell_type": "code",
   "execution_count": null,
   "metadata": {},
   "outputs": [],
   "source": [
    "\n",
    "test_df = pd.read_csv('../csvs/fraudTest.csv')\n",
    "test_df = pd.get_dummies(test_df, columns=['category'], drop_first=True)\n",
    "# test_df['category_misc_net'] = test_df['category_misc_net'].astype(int)\n",
    "# test_df['category_grocery_pos'] = test_df['category_grocery_pos'].astype(int)\n",
    "# test_df['category_gas_transport'] = test_df['category_gas_transport'].astype(int)\n",
    "\n",
    "for x in test_df:\n",
    "    if 'category' in x:\n",
    "        test_df[x] = test_df[x].astype(int)"
   ]
  },
  {
   "cell_type": "code",
   "execution_count": null,
   "metadata": {},
   "outputs": [],
   "source": [
    "X_train = balanced_df[features].values\n",
    "y_train = balanced_df['is_fraud'].values\n",
    "X_test = test_df[features].values"
   ]
  },
  {
   "cell_type": "code",
   "execution_count": null,
   "metadata": {},
   "outputs": [],
   "source": [
    "clf = DecisionTreeClassifier()\n",
    "clf.fit(X_train, y_train)\n",
    "\n",
    "y_test = clf.predict(X_test)\n",
    "y_test"
   ]
  },
  {
   "cell_type": "code",
   "execution_count": null,
   "metadata": {},
   "outputs": [],
   "source": [
    "display = PrecisionRecallDisplay.from_estimator(\n",
    "    clf, X_test, y_test, name=\"Descision Tree\", plot_chance_level=True, despine=True\n",
    ")\n",
    "_ = display.ax_.set_title(\"2-class Precision-Recall curve\")\n",
    "# implies a perfect model? which wth no"
   ]
  },
  {
   "cell_type": "code",
   "execution_count": null,
   "metadata": {},
   "outputs": [],
   "source": [
    "y_actual = test_df['is_fraud'].values\n",
    "false_n = 0\n",
    "false_p = 0\n",
    "true_p = 0\n",
    "true_n = 0\n",
    "\n",
    "actual_1 = 0\n",
    "actual_0 = 0\n",
    "test_1 = 0\n",
    "test_0 = 0\n",
    "\n",
    "for x in range(len(y_actual)):\n",
    "    val = y_actual[x]\n",
    "    testval = y_test[x]\n",
    "\n",
    "    if testval != val:\n",
    "        if testval == 0 and val == 1:\n",
    "            false_n += 1\n",
    "\n",
    "            test_0 += 1\n",
    "            actual_1 += 1\n",
    "        elif testval == 1 and val == 0:\n",
    "            false_p += 1\n",
    "\n",
    "            test_1 += 1\n",
    "            actual_0 += 1\n",
    "    else:\n",
    "        if testval == 1 and val == 1:\n",
    "            true_p += 1\n",
    "\n",
    "            test_1 += 1\n",
    "            actual_1 += 1\n",
    "        elif testval == 0 and val == 0:\n",
    "            true_n += 1\n",
    "\n",
    "            test_0 += 1\n",
    "            actual_0 += 1\n",
    "\n",
    "\n",
    "print('false positives:', false_p)\n",
    "print('false negatives:', false_n)\n",
    "print('overall false:', (false_n + false_p))\n",
    "\n",
    "print('\\ntrue positives:', true_p)\n",
    "print('true negatives:', true_n)\n",
    "print('overall true:', (true_n + true_p))\n",
    "# many more false positives than false negatives\n",
    "# many more true negatives than true positives\n",
    "\n",
    "print('\\nactual fraud/non-fraud ratio:', (actual_1 / actual_0))\n",
    "print('predicted fraud/non-fraud ratio:', (test_1 / test_0))\n",
    "# many more 1s in the test df"
   ]
  },
  {
   "cell_type": "code",
   "execution_count": null,
   "metadata": {},
   "outputs": [],
   "source": [
    "print('\\nAcuraccy:')\n",
    "print((true_p + true_n) / (len(y_actual)) * 100)\n",
    "# wahey, 94% acuraccy so I guess it's amazing\n",
    "print('Precision:')\n",
    "print((true_p / (true_p + false_p)) * 100)\n",
    "# terrible precision\n",
    "print('Recall:')\n",
    "print((true_p / (true_p + false_n)) * 100)\n",
    "# very good recall"
   ]
  },
  {
   "cell_type": "code",
   "execution_count": null,
   "metadata": {},
   "outputs": [],
   "source": [
    "accuracy_score(y_true=y_actual, y_pred=y_test) * 100"
   ]
  }
 ],
 "metadata": {
  "kernelspec": {
   "display_name": ".venv",
   "language": "python",
   "name": "python3"
  },
  "language_info": {
   "codemirror_mode": {
    "name": "ipython",
    "version": 3
   },
   "file_extension": ".py",
   "mimetype": "text/x-python",
   "name": "python",
   "nbconvert_exporter": "python",
   "pygments_lexer": "ipython3",
   "version": "3.12.3"
  }
 },
 "nbformat": 4,
 "nbformat_minor": 2
}
